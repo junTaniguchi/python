{
 "cells": [
  {
   "cell_type": "code",
   "execution_count": 1,
   "metadata": {
    "collapsed": true
   },
   "outputs": [],
   "source": [
    "import os, glob\n",
    "from PIL import Image, ImageDraw, ImageFont\n",
    "import numpy as np\n",
    "import cv2, random\n",
    "\n",
    "# サイズの指定\n",
    "image_size = 28 # MNISTと同じサイズ"
   ]
  },
  {
   "cell_type": "code",
   "execution_count": 2,
   "metadata": {
    "collapsed": false
   },
   "outputs": [
    {
     "name": "stdout",
     "output_type": "stream",
     "text": [
      "font count= 74\n"
     ]
    }
   ],
   "source": [
    "# フォントの列挙\n",
    "#ttf_list = glob.glob(\"/Library/Fonts/Microsoft/*.ttf\") # Mac\n",
    "#ttf_list += glob.glob(\"~/Library/Fonts/*.ttf\") # Mac\n",
    "#ttf_list += glob.glob(\"/usr/share/fonts/*.ttf\") # Ubuntu\n",
    "#ttf_list += glob.glob(\"~/.fonts/*.ttf\") # Ubuntu\n",
    "ttf_list = []\n",
    "url = \"/Users/JunTaniguchi/Desktop/pythonPlayGround/study_tensorflow/keras_project/\"\n",
    "with open(url + \"japanese_font_list.txt\", \"r\") as japanese_ttf:\n",
    "    japanese_font = japanese_ttf.readlines()\n",
    "    ttf_list+= list(japanese_font)\n",
    "print(\"font count=\", len(ttf_list))"
   ]
  },
  {
   "cell_type": "code",
   "execution_count": 3,
   "metadata": {
    "collapsed": true
   },
   "outputs": [],
   "source": [
    "# 中央に文字を描画\n",
    "def draw_text(im, font, text):\n",
    "    dr = ImageDraw.Draw(im)\n",
    "    im_sz = np.array(im.size)\n",
    "    fo_sz = np.array(font.getsize(text))\n",
    "    xy = (im_sz - fo_sz) / 2\n",
    "    # print(im_sz, fo_sz)\n",
    "    dr.text(xy, text, font=font, fill=(255))"
   ]
  },
  {
   "cell_type": "code",
   "execution_count": 13,
   "metadata": {
    "collapsed": false
   },
   "outputs": [],
   "source": [
    "with open(\"/Users/JunTaniguchi/Desktop/pythonPlayGround/study_tensorflow/keras_project/japanese_lang/japanese_lang.txt\") as japanese_file:\n",
    "    japanese_lang = japanese_file.read()\n",
    "    japanese_list = list(japanese_lang)\n",
    "\n",
    "# サンプル画像を出力するフォルダ\n",
    "for japanese_str in japanese_lang:\n",
    "    url = \"/Users/JunTaniguchi/Desktop/pythonPlayGround/study_tensorflow/keras_project/image/\" + japanese_str\n",
    "    if not os.path.exists(url):\n",
    "        os.makedirs(url)"
   ]
  },
  {
   "cell_type": "code",
   "execution_count": 14,
   "metadata": {
    "collapsed": true
   },
   "outputs": [],
   "source": [
    "# 回転させたり拡大したりしてデータを水増しする\n",
    "def gen_image(base_im, japanese_str, font_name):\n",
    "    for ang in range(-20, 20, 2):\n",
    "        sub_im = base_im.rotate(ang)\n",
    "        data = np.asarray(sub_im)\n",
    "        X.append(data)\n",
    "        Y.append(japanese_str)\n",
    "        w = image_size\n",
    "        # 少しずつ拡大する\n",
    "        for r in range(8, 15, 3):\n",
    "            size = round((r/10) * image_size)\n",
    "            im2 = cv2.resize(data, (size, size), cv2.INTER_AREA)\n",
    "            data2 = np.asarray(im2)\n",
    "            if image_size > size:\n",
    "                x = (image_size - size) // 2\n",
    "                data = np.zeros((image_size, image_size))\n",
    "                data[x:x+size, x:x+size] = data2\n",
    "            else:\n",
    "                x = (size - image_size) // 2\n",
    "                data = data2[x:x+w, x:x+w]\n",
    "            X.append(data)\n",
    "            Y.append(japanese_str)\n",
    "            if random.randint(0, 400) == 0:\n",
    "                fname = \"image/num/n-{0}-{1}-{2}.png\".format(\n",
    "                    font_name, japanese_str, ang, r)\n",
    "                cv2.imwrite(fname, data)"
   ]
  },
  {
   "cell_type": "code",
   "execution_count": null,
   "metadata": {
    "collapsed": true
   },
   "outputs": [],
   "source": [
    "# 画像に描画\n",
    "X = []\n",
    "Y = []\n",
    "for path in ttf_list:\n",
    "    font_name = os.path.basename(path)\n",
    "    try:\n",
    "        fo = ImageFont.truetype(path, size=100)\n",
    "    except:\n",
    "        continue\n",
    "    for japanese_str in japanese_list:\n",
    "        im = Image.new(\"L\", (200, 200))\n",
    "        draw_text(im, fo, japanese_str)\n",
    "        # フォントの描画範囲を得る\n",
    "        ima = np.asarray(im)\n",
    "        blur = cv2.GaussianBlur(ima, (5, 5), 0) # ぼかす\n",
    "        th = cv2.adaptiveThreshold(blur, 255, 1, 1, 11, 2) # 二値化\n",
    "        contours = cv2.findContours(th, \n",
    "            cv2.RETR_EXTERNAL, cv2.CHAIN_APPROX_NONE)[1]\n",
    "        for cnt in contours:\n",
    "            x, y, w, h = cv2.boundingRect(cnt)\n",
    "            if w < 10 or h < 10: continue\n",
    "            num = ima[y:y+h, x:x+w] # 部分画像を得る\n",
    "            ww = w if w > h else h\n",
    "            wx = (ww - w) // 2\n",
    "            wy = (ww - h) // 2\n",
    "            spc = np.zeros((ww, ww))\n",
    "            spc[wy:wy+h, wx:wx+w] = num # 中央にコピー\n",
    "            num = cv2.resize(spc, (image_size, image_size), cv2.INTER_AREA)\n",
    "            # 標準の形状をデータに追加\n",
    "            X.append(num)\n",
    "            Y.append(japanese_str)\n",
    "            # 少しずつ回転する\n",
    "            base_im = Image.fromarray(np.uint8(num))\n",
    "            gen_image(base_im, japanese_str, font_name)"
   ]
  },
  {
   "cell_type": "code",
   "execution_count": null,
   "metadata": {
    "collapsed": true
   },
   "outputs": [],
   "source": [
    "X = np.array(X)\n",
    "Y = np.array(Y)\n",
    "np.savez(\"/Users/JunTaniguchi/Desktop/pythonPlayGround/study_tensorflow/keras_project/image/font_draw.npz\", x=X, y=Y)\n",
    "print(\"ok,\", len(Y))"
   ]
  }
 ],
 "metadata": {
  "kernelspec": {
   "display_name": "Python [Root]",
   "language": "python",
   "name": "Python [Root]"
  },
  "language_info": {
   "codemirror_mode": {
    "name": "ipython",
    "version": 3
   },
   "file_extension": ".py",
   "mimetype": "text/x-python",
   "name": "python",
   "nbconvert_exporter": "python",
   "pygments_lexer": "ipython3",
   "version": "3.5.2"
  }
 },
 "nbformat": 4,
 "nbformat_minor": 0
}
